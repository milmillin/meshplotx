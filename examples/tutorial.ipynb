{
 "cells": [
  {
   "cell_type": "markdown",
   "metadata": {},
   "source": [
    "# Meshplot Tutorials\n",
    "\n",
    "\n",
    "Meshplot is a simple, and fast 2d and 3d mesh and point cloud viewer based on `pythreejs`.\n",
    "\n",
    "\n",
    "\n",
    "### Installing Meshplot\n",
    "Meshplot can be installed from [Conda forge](https://anaconda.org/conda-forge/meshplot) with `conda install -c conda-forge meshplot` and imported as follows:"
   ]
  },
  {
   "cell_type": "code",
   "execution_count": null,
   "metadata": {},
   "outputs": [],
   "source": [
    "import numpy as np\n",
    "import meshplotx as mp"
   ]
  },
  {
   "cell_type": "markdown",
   "metadata": {},
   "source": [
    "### Mesh Representation\n",
    "\n",
    "Meshplot uses `numpy` to encode vectors and matrices. A triangular mesh is encoded as a pair of matrices:"
   ]
  },
  {
   "cell_type": "code",
   "execution_count": null,
   "metadata": {},
   "outputs": [],
   "source": [
    "data = np.load('data.npz')\n",
    "v: np.ndarray = data[\"v\"]\n",
    "f: np.ndarray = data[\"f\"]\n",
    "n: np.ndarray = data[\"n\"]\n",
    "fs: np.ndarray = data[\"fs\"]\n",
    "v1: np.ndarray = data[\"v1\"]\n",
    "f1: np.ndarray = data[\"f1\"]\n",
    "v2: np.ndarray = data[\"v2\"]\n",
    "f2: np.ndarray = data[\"f2\"]"
   ]
  },
  {
   "cell_type": "markdown",
   "metadata": {},
   "source": [
    "### Visualizing Surfaces\n",
    "\n",
    "We can visualize surfaces, their properties and additional debugging information through the `plot` function. Let's visualize the previously loaded triangle mesh:"
   ]
  },
  {
   "cell_type": "code",
   "execution_count": null,
   "metadata": {},
   "outputs": [],
   "source": [
    "mp.Plot(v, f, mesh_shading=mp.MeshShading(wireframe=True))"
   ]
  },
  {
   "cell_type": "code",
   "execution_count": null,
   "metadata": {},
   "outputs": [],
   "source": [
    "viewer = mp.Plot(mesh_shading=mp.MeshShading(wireframe=True, wire_width=1, bbox=True))\n",
    "viewer.add_mesh(v, f, bbox_shading=mp.LineShading(line_width=3, line_color=\"red\"))\n",
    "viewer"
   ]
  },
  {
   "cell_type": "markdown",
   "metadata": {},
   "source": [
    "### Scalar field visualization\n",
    "\n",
    "Colors and normals can be associated to faces or vertices using the same `plot` function with three parameters.\n",
    "\n",
    "The key parameter `c` represents the vertex or face colors and can be one of the following:\n",
    "\n",
    "1. A #v by 1 vector with one function value per vertex, which gets normalized and converted into vertex color values using the [viridis](https://matplotlib.org/examples/color/colormaps_reference.html) colormap.\n",
    "2. A #v by 3 vector with RGB color values per vertex. The color values should be in the range 0.0-1.0.\n",
    "3. A single color value for all vertices in the form of a numpy array [R, G, B] in the range 0.0-1.0.\n",
    "4. A #f by 1 vector with one function value per face, which gets normalized and converted into face color values using the [viridis](https://matplotlib.org/examples/color/colormaps_reference.html) colormap.\n",
    "5. A #f by 3 vector with RGB color values per face. The color values should be in the range 0.0-1.0.\n",
    "\n",
    "The following four examples show vertex function colors (in this case just the y-coordinate), vertex normals as colors per vertex, random colors per face and face function colors (in this case the size of the faces):"
   ]
  },
  {
   "cell_type": "code",
   "execution_count": null,
   "metadata": {},
   "outputs": [],
   "source": [
    "grid = mp.PlotGrid(2, 2, settings=mp.Settings(width=300, height=300))\n",
    "grid[0, 0].add_mesh(v, f, c=v[:, 1])\n",
    "grid[0, 1].add_mesh(v, f, c=n)\n",
    "grid[1, 0].add_mesh(v, f, c=np.random.rand(*f.shape))\n",
    "grid[1, 1].add_mesh(v, f, c=fs)\n",
    "grid"
   ]
  },
  {
   "cell_type": "markdown",
   "metadata": {},
   "source": [
    "### Visualizing Point Clouds\n",
    "We can also visualize point clouds, their properties and additional debugging information through the `plot` function, by just leaving the faces array empty:"
   ]
  },
  {
   "cell_type": "code",
   "execution_count": null,
   "metadata": {},
   "outputs": [],
   "source": [
    "mp.Plot(v)"
   ]
  },
  {
   "cell_type": "markdown",
   "metadata": {},
   "source": [
    "Similar to the surface plot, we can also set color values for all points in the point cloud. This can be done either by passing function values or directly by passing colors:"
   ]
  },
  {
   "cell_type": "code",
   "execution_count": null,
   "metadata": {},
   "outputs": [],
   "source": [
    "grid = mp.PlotGrid(1, 2, settings=mp.Settings(width=300, height=300))\n",
    "grid[0, 0].add_points(v, c=v[:, 1], point_shading=mp.PointShading(point_size= 0.03))\n",
    "grid[0, 1].add_points(v, c=np.random.rand(*v.shape), point_shading=mp.PointShading(point_size= 0.03))\n",
    "grid"
   ]
  },
  {
   "cell_type": "markdown",
   "metadata": {},
   "source": [
    "### Overlays, Textures and Shading\n",
    "\n",
    "In addition to plotting the surface, the viewer supports the visualization of bounding boxes, points and lines. These overlays can be very helpful while developing geometric processing algorithms to plot debug information.\n",
    "\n",
    "The following example draws a point of a given color for each row of `v_box`. The point is placed at the coordinates specified in each row of `v_box`, which is a #v_box by 3 matrix.\n",
    "In addition, edges of a given color are drawn for the vertices `v_box` with the indices `f_box`:"
   ]
  },
  {
   "cell_type": "code",
   "execution_count": null,
   "metadata": {},
   "outputs": [],
   "source": [
    "m = np.min(v, axis=0)\n",
    "ma = np.max(v, axis=0)\n",
    "\n",
    "# Corners of the bounding box\n",
    "v_box = np.array([[m[0], m[1], m[2]], [ma[0], m[1], m[2]], [ma[0], ma[1], m[2]], [m[0], ma[1], m[2]],\n",
    "                  [m[0], m[1], ma[2]], [ma[0], m[1], ma[2]], [ma[0], ma[1], ma[2]], [m[0], ma[1], ma[2]]])\n",
    "\n",
    "# Edges of the bounding box\n",
    "f_box = np.array([[0, 1], [1, 2], [2, 3], [3, 0], [4, 5], [5, 6], [6, 7], \n",
    "                  [7, 4], [0, 4], [1, 5], [2, 6], [7, 3]], dtype=np.dtype(\"int\"))\n",
    "\n",
    "p = mp.Plot(v, f)\n",
    "p.add_edges(v_box, f_box, line_shading=mp.LineShading(line_color=\"red\"))\n",
    "p.add_points(v_box, point_shading=mp.PointShading(point_color=\"green\"))\n",
    "p"
   ]
  },
  {
   "cell_type": "markdown",
   "metadata": {},
   "source": [
    "### Defining Vertex Normals\n",
    "\n",
    "It is possible to define vertex normals for the shading. This is done as follows:"
   ]
  },
  {
   "cell_type": "code",
   "execution_count": null,
   "metadata": {},
   "outputs": [],
   "source": [
    "n = np.random.rand(v.shape[0], v.shape[1])\n",
    "mp.Plot(v, f, n=n, mesh_shading=mp.MeshShading(flat=False))"
   ]
  },
  {
   "cell_type": "markdown",
   "metadata": {},
   "source": [
    "The viewer allows for many customization options, which are presented below:"
   ]
  },
  {
   "cell_type": "code",
   "execution_count": null,
   "metadata": {},
   "outputs": [],
   "source": [
    "mi = np.min(v, axis=0)\n",
    "ma = np.max(v, axis=0)\n",
    "\n",
    "\n",
    "p = mp.Plot(v, f)\n",
    "\n",
    "# Instead of adding edges in the form of (v, f), also lines of the form (start, end) can be added\n",
    "p.add_lines(v[f[:,0]], v[f[:,1]], line_shading=mp.LineShading(line_color=\"red\"))\n",
    "\n",
    "# The vertex positions can be updated as well\n",
    "v += 0.003 * np.random.rand(v.shape[0], v.shape[1])\n",
    "# The plotted objects get increasing ids. In this case the mesh object has id 0, and the lines object id 1.\n",
    "p.update_mesh(vertices=v)\n",
    "p"
   ]
  },
  {
   "cell_type": "markdown",
   "metadata": {},
   "source": [
    "### Events and Widgets"
   ]
  },
  {
   "cell_type": "markdown",
   "metadata": {},
   "source": [
    "The viewer supports to use interactive widgets from the [ipywidgets](https://ipywidgets.readthedocs.io/en/latest/user_guide.html) package to manipulate the plot. "
   ]
  },
  {
   "cell_type": "code",
   "execution_count": null,
   "metadata": {},
   "outputs": [],
   "source": [
    "v = [v1, v2]\n",
    "f = [f1, f2]\n",
    "p = mp.Plot(v1, f1)\n",
    "\n",
    "@mp.interact(mesh=[('bump', 0), ('fertility', 1)])\n",
    "def ff(mesh):\n",
    "    p.reset()\n",
    "    p.add_mesh(v[mesh], f[mesh])\n",
    "\n",
    "p"
   ]
  },
  {
   "cell_type": "markdown",
   "metadata": {},
   "source": [
    "### Offline Plotting\n",
    "\n",
    "Besides interactive plotting in Jupyter Notebooks, `meshplot` supports to plot objects in offline html pages. The offline mode is automatically selected, if `meshplot` is run outside of a Jupyter Notebook. Within Jupyter Notebooks, one can manually switch to offline mode as follows:"
   ]
  },
  {
   "cell_type": "code",
   "execution_count": null,
   "metadata": {},
   "outputs": [],
   "source": [
    "p = mp.Plot(v1, f1, c=np.random.rand(*f1.shape))\n",
    "p.add_mesh(v1 + 5, f1, c=v1[:,1]);\n",
    "p.add_points(v1 - 5, c=v1[:,2], point_shading=mp.PointShading(point_size=1))\n",
    "p.save(\"test.html\")"
   ]
  }
 ],
 "metadata": {
  "kernelspec": {
   "display_name": "mp",
   "language": "python",
   "name": "python3"
  },
  "language_info": {
   "codemirror_mode": {
    "name": "ipython",
    "version": 3
   },
   "file_extension": ".py",
   "mimetype": "text/x-python",
   "name": "python",
   "nbconvert_exporter": "python",
   "pygments_lexer": "ipython3",
   "version": "3.12.0"
  }
 },
 "nbformat": 4,
 "nbformat_minor": 2
}
